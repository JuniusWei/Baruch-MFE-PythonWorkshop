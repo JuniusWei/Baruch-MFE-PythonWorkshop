{
 "cells": [
  {
   "cell_type": "markdown",
   "metadata": {},
   "source": [
    "## Problem 1"
   ]
  },
  {
   "cell_type": "markdown",
   "metadata": {},
   "source": [
    "###### Read the code below and rewrite it using only numpy functions (without for loop, if-else statements). Benchmark your implementation. How much is it faster than the naive python implementation? (hint: use np.isin)"
   ]
  },
  {
   "cell_type": "code",
   "execution_count": 61,
   "metadata": {},
   "outputs": [],
   "source": [
    "# Goal: For every element in names, find whether this element is in db, and return its index in db\n",
    "def func1(names, db):\n",
    "    idx = []\n",
    "    for i in names:\n",
    "        if i in db:\n",
    "            idx.append(db.index(i))\n",
    "    return idx\n",
    "\n",
    "# New Function\n",
    "import numpy as np\n",
    "def new_func(test_element, element):\n",
    "    # Construct a mask array based on \"element\".\n",
    "    mask = np.isin(element, test_element)\n",
    "    return np.where(mask)[0]"
   ]
  },
  {
   "cell_type": "code",
   "execution_count": 62,
   "metadata": {},
   "outputs": [
    {
     "name": "stdout",
     "output_type": "stream",
     "text": [
      "2.03 ms ± 69.9 µs per loop (mean ± std. dev. of 7 runs, 1000 loops each)\n",
      "809 µs ± 60.2 µs per loop (mean ± std. dev. of 7 runs, 1000 loops each)\n"
     ]
    }
   ],
   "source": [
    "# Test two functions and compare the time of the implementation\n",
    "names_old = range(1, 10000, 2)\n",
    "db_old = range(100, 20000, 1)\n",
    "names_new = np.arange(1, 10000, 2)\n",
    "db_new = np.arange(100, 20000, 1)\n",
    "\n",
    "\n",
    "%timeit res_1 = func1(names_old, db_old)\n",
    "# print(res_1)\n",
    "\n",
    "%timeit result = new_func(names_new, db_new)\n",
    "# print(result)\n",
    "\n",
    "# Conclusion: \n",
    "# Based on the same sample data, using \"np.isin()\" is much faser than using naive searching and appending."
   ]
  },
  {
   "cell_type": "markdown",
   "metadata": {},
   "source": [
    "## Problem 2 "
   ]
  },
  {
   "cell_type": "markdown",
   "metadata": {},
   "source": [
    "##### Use only numpy functions (without for loop, if-else statements) to find the largest N distances between points if either points is inside the circle of raidus r0. Then return the coordinates of these points. "
   ]
  },
  {
   "cell_type": "code",
   "execution_count": 92,
   "metadata": {},
   "outputs": [],
   "source": [
    "# Set the value of parameters\n",
    "coordinates = np.array(\n",
    "[[0.968, 0.313],\n",
    " [0.692, 0.876],\n",
    " [0.895, 0.085],\n",
    " [0.039, 0.17 ],\n",
    " [0.878, 0.098]]\n",
    ")\n",
    "\n",
    "circle_r0 = 0.9"
   ]
  },
  {
   "cell_type": "code",
   "execution_count": 93,
   "metadata": {},
   "outputs": [],
   "source": [
    "def search_max_distance(coordinates, r0):\n",
    "    # Find the pair distances (pairwisely)\n",
    "    pair_distance = np.linalg.norm(coordinates[:, np.newaxis, :] - coordinates, axis = 2)\n",
    "    # Check whether the point is inside the cirlce\n",
    "    mask_in_circle = np.linalg.norm(coordinates, axis = 1) < r0\n",
    "    # Only one point can be inside cirlce r0\n",
    "    mask_r0 = mask_in_circle[:, np.newaxis] ^ mask_in_circle\n",
    "    mask_uniq_distance = np.tril(np.ones_like(mask_r0), k = -1)\n",
    "    # Use the mask array to find the pair distance that satistfies \"only one point is inside the circle\"\n",
    "    uniq_distance = pair_distance[mask_r0 & mask_uniq_distance]\n",
    "    # Get the indices corresponding to the distance\n",
    "    indices = np.argwhere(mask_r0 &  mask_uniq_distance)\n",
    "    # Find the indices of the largest three distance\n",
    "    result_indices = indices[np.argpartition(uniq_distance, -3)[-3:]]\n",
    "    return result_indices"
   ]
  },
  {
   "cell_type": "code",
   "execution_count": 94,
   "metadata": {},
   "outputs": [
    {
     "name": "stdout",
     "output_type": "stream",
     "text": [
      "[[2 1]\n",
      " [3 0]\n",
      " [3 1]]\n"
     ]
    }
   ],
   "source": [
    "# Test\n",
    "print(search_max_distance(coordinates, circle_r0))"
   ]
  },
  {
   "cell_type": "code",
   "execution_count": null,
   "metadata": {},
   "outputs": [],
   "source": []
  }
 ],
 "metadata": {
  "kernelspec": {
   "display_name": "Python 3",
   "language": "python",
   "name": "python3"
  },
  "language_info": {
   "codemirror_mode": {
    "name": "ipython",
    "version": 3
   },
   "file_extension": ".py",
   "mimetype": "text/x-python",
   "name": "python",
   "nbconvert_exporter": "python",
   "pygments_lexer": "ipython3",
   "version": "3.8.3"
  }
 },
 "nbformat": 4,
 "nbformat_minor": 4
}
