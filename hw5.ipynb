{
 "cells": [
  {
   "cell_type": "markdown",
   "metadata": {},
   "source": [
    "# Q 1 Algorithmic questions"
   ]
  },
  {
   "cell_type": "code",
   "execution_count": 24,
   "metadata": {},
   "outputs": [],
   "source": [
    "# Import the packages that will be used\n",
    "import heapq\n",
    "from typing import List"
   ]
  },
  {
   "cell_type": "code",
   "execution_count": 50,
   "metadata": {},
   "outputs": [],
   "source": [
    "# Wrapping up\n",
    "def k_largest_num(arr: List, k: int) -> int:\n",
    "    '''\n",
    "    The solution is wrapped up into function k_largest_num()\n",
    "    input: arr(the unsorted array), k(the rank of the target number)\n",
    "    output: the k-th largest number in the unsorted array\n",
    "    '''\n",
    "    if not arr:\n",
    "        print(\"The array is empty\")\n",
    "        return\n",
    "    # Based on the unsorted array, establish the min-heap (can be transformed in linear time)\n",
    "    heapq.heapify(arr) \n",
    "    # Pop out the element from the heap. For the min-heap, the k-th largest number is equivalent to the (n-k+1)-th smallest number\n",
    "    for i in range(len(arr) - k + 1):\n",
    "        target = heapq.heappop(arr)\n",
    "    return target"
   ]
  },
  {
   "cell_type": "code",
   "execution_count": 51,
   "metadata": {
    "scrolled": true
   },
   "outputs": [
    {
     "name": "stdout",
     "output_type": "stream",
     "text": [
      "5\n",
      "4\n",
      "The array is empty\n",
      "None\n"
     ]
    }
   ],
   "source": [
    "# Develop several test cases and explain why you choose these test cases\n",
    "# test_1: when the elements in the unsorted array are all distinct\n",
    "test_1 = [3, 2, 1, 5, 6, 4]\n",
    "k1 = 2\n",
    "print(k_largest_num(test_1, k1))\n",
    "\n",
    "# test_2: when there are repeated number in the array\n",
    "test_2 = [2, 3, 4, 4, 4, 5, 6]\n",
    "k2 = 4\n",
    "print(k_largest_num(test_2, k2))\n",
    "\n",
    "# test_3: when the input array is empty\n",
    "test_3 = []\n",
    "k3 = 0\n",
    "print(k_largest_num(test_3, k3))"
   ]
  },
  {
   "cell_type": "markdown",
   "metadata": {},
   "source": [
    "#### Analyze the time complexity of your algorithm\n",
    "* Building the min-heap based on the unsorted array using heapq.heapify() takes O(n) time (linear time cost)\n",
    "* The iteration part in the function, it takes O(nlogn) time. Inside of the iteration, we need to heapq.heappop() the root of the min-heap. This operation includes:\n",
    "    * 1. Exchange the root element with the last element in the heap, and decrease the size of the min-heap by one;\n",
    "    * 2. Min-heapify the current heap (adjust it to make sure it maintain the properties of a min-heap)\n",
    "    * As this will iterate for (n-k+1) times and min-heapify takes O(logn) time, the iteration part will take O(nlogn) in total.\n",
    "* Therefore, the algorithm will take O(nlogn+n) time."
   ]
  },
  {
   "cell_type": "markdown",
   "metadata": {},
   "source": [
    "# Q2 Multithreading pop"
   ]
  },
  {
   "cell_type": "code",
   "execution_count": 20,
   "metadata": {},
   "outputs": [],
   "source": [
    "# Import packages\n",
    "import queue\n",
    "import timeit\n",
    "import threading\n",
    "import logging\n",
    "from concurrent.futures import ProcessPoolExecutor, ThreadPoolExecutor\n",
    "\n",
    "# Function definition\n",
    "def time_calculator(func):\n",
    "    '''\n",
    "        Calculate the execution time of a function\n",
    "    '''\n",
    "    def inner(*args, **kwargs):\n",
    "        start_t = timeit.default_timer()\n",
    "        #print(\"Start_time: \", start_t)\n",
    "        func(*args, **kwargs)\n",
    "        end_t = timeit.default_timer()\n",
    "        #print(\"End_time:\", end_t)\n",
    "        print(\"Execution Time: {} seconds\".format(end_t - start_t))\n",
    "    return inner\n",
    "\n",
    "# Define function for popping element out of the queue\n",
    "def Queue_Pop_Thread(q, name, work_amount):\n",
    "    #print(f\"Thread {name}: starting\")\n",
    "    for count in range(work_amount):\n",
    "        if not q.empty():\n",
    "            q.get()\n",
    "        else:\n",
    "            print(\"WARNING: The queue is empty!\")\n",
    "            break\n",
    "    #print(f\"Thread {name}: finishing\")\n",
    "    \n",
    "# Utilizing Threading\n",
    "@time_calculator\n",
    "def threading_pop(q, num_worker):\n",
    "    threads = []\n",
    "    for i in range(num_worker):\n",
    "        #print(f\"Create and start thread {i}\")\n",
    "        t = threading.Thread(target = Queue_Pop_Thread, args = (q, i, int(q.qsize() / num_worker)))\n",
    "        threads.append(t)\n",
    "        t.start()\n",
    "\n",
    "    # Wait for the threads to finish\n",
    "    for t in threads:\n",
    "        t.join()\n",
    "            \n",
    "# Utilize ProcessExecutor (Overcomes GIL limitations)\n",
    "@time_calculator\n",
    "def process_executor(q, num_worker):\n",
    "    with ProcessPoolExecutor(max_workers = num_worker) as executor:\n",
    "        for i in range(q.qsize()):\n",
    "            executor.submit(q.get())"
   ]
  },
  {
   "cell_type": "markdown",
   "metadata": {},
   "source": [
    "__Utilize the Threading to achieve multithreading__\n",
    "* __Observation__: \n",
    "  <br>Notice that when there are one thread, the time cost is 0.02989s; when there are five threads, the time cost is 0.01861932; and when there are 20 threads, the time cost is 0.056273s. That is, as the # of threads increases, the time cost will also increase.\n",
    "  <br>This is resulted by GIL (General Interpreter Lock), which only allows one thread to run at one time and makes running in parallel impossible. Therefore, as the # of threads increases, the time cost will also increase (it also takes time to make allocation among each thread).\n",
    "* __Quick question__: \n",
    "<br>For doing a queue poping, when allocating the tasks to each threads, we divide the task evenly to each task (see in the function Queue_Pop_Thread(), we have a parameter work amount equal to int(q.qsize()/num_worker)). Based on this allocation, will it be possible that the elements in queue are not all popped out? (i.e. q is not empty at the end of the multithreading pop)"
   ]
  },
  {
   "cell_type": "code",
   "execution_count": 25,
   "metadata": {},
   "outputs": [
    {
     "name": "stdout",
     "output_type": "stream",
     "text": [
      "Threading with 1 thread\n",
      "Execution Time: 0.02157360000001063 seconds\n",
      "Threading with 5 threads\n",
      "Execution Time: 0.01816570000005413 seconds\n",
      "Threading with 20 threads\n",
      "Execution Time: 0.02206069999999727 seconds\n"
     ]
    }
   ],
   "source": [
    "# Generage a queue that have 10000 elements\n",
    "# Construct a FIFO queue\n",
    "q1 = queue.Queue(maxsize = 10000)\n",
    "q2 = queue.Queue(maxsize = 10000)\n",
    "q3 = queue.Queue(maxsize = 10000)\n",
    "for i in range(10000):\n",
    "    q1.put(i)\n",
    "    q2.put(i)\n",
    "    q3.put(i)\n",
    "\n",
    "# Compare Efficiency using Threading\n",
    "print(\"Threading with 1 thread\")\n",
    "\n",
    "threading_pop(q1, 1)\n",
    "print(\"Threading with 5 threads\")\n",
    "threading_pop(q2, 5)\n",
    "print(\"Threading with 20 threads\")\n",
    "threading_pop(q3, 20)"
   ]
  },
  {
   "cell_type": "markdown",
   "metadata": {},
   "source": [
    "__Utilize the ProcessPoolExecutor to achieve multithreading__\n",
    "* __Observation__: \n",
    "  <br> I have noticed that the time cost also increases as the # of the threads increases.\n",
    "  <br> But I am very confused about it. As mentioned in class, ProcessPoolExecutor can overcome GIL. However, in this output, the time costs doesn't decrease when the # of threads increases.\n",
    "  <br> Is there anything worng with the function \"process_executor()\"?\n"
   ]
  },
  {
   "cell_type": "code",
   "execution_count": 26,
   "metadata": {},
   "outputs": [
    {
     "name": "stdout",
     "output_type": "stream",
     "text": [
      "Multithreading with 1 thread\n",
      "Execution Time: 0.1567588999999998 seconds\n",
      "Multithreading with 5 threads\n",
      "Execution Time: 0.6690106999999443 seconds\n",
      "Multithreading with 20 threads\n",
      "Execution Time: 1.009322300000008 seconds\n"
     ]
    }
   ],
   "source": [
    "# Generage a queue that have 10000 elements\n",
    "# Construct a FIFO queue\n",
    "q4 = queue.Queue(maxsize = 10000)\n",
    "q5 = queue.Queue(maxsize = 10000)\n",
    "q6 = queue.Queue(maxsize = 10000)\n",
    "for i in range(100):\n",
    "    q4.put(i)\n",
    "    q5.put(i)\n",
    "    q6.put(i)\n",
    "\n",
    "# Compare Efficiency using ThreadPoolExecutor\n",
    "print(\"Multithreading with 1 thread\")\n",
    "process_executor(q4, 1)\n",
    "print(\"Multithreading with 5 threads\")\n",
    "process_executor(q5, 5)\n",
    "print(\"Multithreading with 20 threads\")\n",
    "process_executor(q6, 20)"
   ]
  },
  {
   "cell_type": "code",
   "execution_count": null,
   "metadata": {},
   "outputs": [],
   "source": []
  },
  {
   "cell_type": "code",
   "execution_count": null,
   "metadata": {},
   "outputs": [],
   "source": []
  },
  {
   "cell_type": "code",
   "execution_count": null,
   "metadata": {},
   "outputs": [],
   "source": []
  },
  {
   "cell_type": "code",
   "execution_count": null,
   "metadata": {},
   "outputs": [],
   "source": []
  },
  {
   "cell_type": "code",
   "execution_count": null,
   "metadata": {},
   "outputs": [],
   "source": []
  },
  {
   "cell_type": "code",
   "execution_count": null,
   "metadata": {},
   "outputs": [],
   "source": []
  },
  {
   "cell_type": "code",
   "execution_count": null,
   "metadata": {},
   "outputs": [],
   "source": []
  },
  {
   "cell_type": "code",
   "execution_count": null,
   "metadata": {},
   "outputs": [],
   "source": []
  },
  {
   "cell_type": "code",
   "execution_count": null,
   "metadata": {},
   "outputs": [],
   "source": []
  },
  {
   "cell_type": "code",
   "execution_count": null,
   "metadata": {},
   "outputs": [],
   "source": []
  },
  {
   "cell_type": "code",
   "execution_count": null,
   "metadata": {},
   "outputs": [],
   "source": []
  },
  {
   "cell_type": "code",
   "execution_count": null,
   "metadata": {},
   "outputs": [],
   "source": []
  }
 ],
 "metadata": {
  "kernelspec": {
   "display_name": "Python 3",
   "language": "python",
   "name": "python3"
  },
  "language_info": {
   "codemirror_mode": {
    "name": "ipython",
    "version": 3
   },
   "file_extension": ".py",
   "mimetype": "text/x-python",
   "name": "python",
   "nbconvert_exporter": "python",
   "pygments_lexer": "ipython3",
   "version": "3.8.3"
  }
 },
 "nbformat": 4,
 "nbformat_minor": 4
}
