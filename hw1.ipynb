{
 "cells": [
  {
   "cell_type": "markdown",
   "metadata": {},
   "source": [
    "# Homework 1"
   ]
  },
  {
   "cell_type": "markdown",
   "metadata": {},
   "source": [
    "## Write a Jupyter Magic"
   ]
  },
  {
   "cell_type": "code",
   "execution_count": 36,
   "metadata": {},
   "outputs": [],
   "source": [
    "# Write a Jupyter Magic that count the number of words in a cell\n",
    "import re\n",
    "from IPython.core.magic import (register_line_cell_magic)\n",
    "@register_line_cell_magic\n",
    "def countwords(line, cell=None):\n",
    "    if cell is None:\n",
    "        print(\"Called as line magic\")\n",
    "        return len(re.findall(r'\\w+', line))\n",
    "    else:\n",
    "        print(\"Called as cell magic\")\n",
    "        return len(re.findall(r'\\w+', line+cell))"
   ]
  },
  {
   "cell_type": "code",
   "execution_count": 37,
   "metadata": {},
   "outputs": [
    {
     "name": "stdout",
     "output_type": "stream",
     "text": [
      "Called as line magic\n"
     ]
    },
    {
     "data": {
      "text/plain": [
       "5"
      ]
     },
     "execution_count": 37,
     "metadata": {},
     "output_type": "execute_result"
    }
   ],
   "source": [
    "# Line magic\n",
    "%countwords this is a line magic"
   ]
  },
  {
   "cell_type": "code",
   "execution_count": 38,
   "metadata": {},
   "outputs": [
    {
     "name": "stdout",
     "output_type": "stream",
     "text": [
      "Called as cell magic\n"
     ]
    },
    {
     "data": {
      "text/plain": [
       "5"
      ]
     },
     "execution_count": 38,
     "metadata": {},
     "output_type": "execute_result"
    }
   ],
   "source": [
    "# Cell magic\n",
    "%%countwords\n",
    "this is a magic\n",
    "cell"
   ]
  },
  {
   "cell_type": "markdown",
   "metadata": {},
   "source": [
    "# Profile the speed of list comprehension vs. for loops"
   ]
  },
  {
   "cell_type": "code",
   "execution_count": 52,
   "metadata": {},
   "outputs": [],
   "source": [
    "# Design some experiments to compare the speed of list comprehension and using a for loop\n",
    "# Using %time and %%time magics (notice that magic function %% should start from the first line)"
   ]
  },
  {
   "cell_type": "code",
   "execution_count": 71,
   "metadata": {},
   "outputs": [],
   "source": [
    "# When the size is extremely large, 100000000\n",
    "test_list=[1]*100000000"
   ]
  },
  {
   "cell_type": "code",
   "execution_count": 72,
   "metadata": {},
   "outputs": [
    {
     "name": "stdout",
     "output_type": "stream",
     "text": [
      "Wall time: 10.2 s\n"
     ]
    }
   ],
   "source": [
    "%time copy_list_2=[test for test in test_list]"
   ]
  },
  {
   "cell_type": "code",
   "execution_count": 73,
   "metadata": {},
   "outputs": [
    {
     "name": "stdout",
     "output_type": "stream",
     "text": [
      "Wall time: 23.1 s\n"
     ]
    }
   ],
   "source": [
    "%%time\n",
    "copy_list=[]\n",
    "for test in test_list:\n",
    "    copy_list.append(test)"
   ]
  },
  {
   "cell_type": "code",
   "execution_count": 76,
   "metadata": {},
   "outputs": [],
   "source": [
    "# When the size is 1000000\n",
    "test_list2=[1]*1000000"
   ]
  },
  {
   "cell_type": "code",
   "execution_count": 79,
   "metadata": {},
   "outputs": [
    {
     "name": "stdout",
     "output_type": "stream",
     "text": [
      "Wall time: 89.8 ms\n"
     ]
    }
   ],
   "source": [
    "%time copy1=[test for test in test_list2]"
   ]
  },
  {
   "cell_type": "code",
   "execution_count": 80,
   "metadata": {},
   "outputs": [
    {
     "name": "stdout",
     "output_type": "stream",
     "text": [
      "Wall time: 183 ms\n"
     ]
    }
   ],
   "source": [
    "%%time\n",
    "copy2=[]\n",
    "for test in test_list2:\n",
    "    copy2.append(test)"
   ]
  },
  {
   "cell_type": "code",
   "execution_count": 84,
   "metadata": {},
   "outputs": [],
   "source": [
    "# When the size is 1000\n",
    "test_list3=[1]*1000"
   ]
  },
  {
   "cell_type": "code",
   "execution_count": 85,
   "metadata": {},
   "outputs": [
    {
     "name": "stdout",
     "output_type": "stream",
     "text": [
      "Wall time: 997 µs\n"
     ]
    }
   ],
   "source": [
    "%time copy3=[test for test in test_list3]"
   ]
  },
  {
   "cell_type": "code",
   "execution_count": 86,
   "metadata": {},
   "outputs": [
    {
     "name": "stdout",
     "output_type": "stream",
     "text": [
      "Wall time: 998 µs\n"
     ]
    }
   ],
   "source": [
    "%%time \n",
    "copy4=[]\n",
    "for test in test_list3:\n",
    "    copy4.append(test)"
   ]
  },
  {
   "cell_type": "code",
   "execution_count": 87,
   "metadata": {},
   "outputs": [],
   "source": [
    "# Conclusion:\n",
    "# When the size of the list is small, then the speeds of list comprehension and for loops are quite close to each other.\n",
    "# However, when the size of the list increases and become extremely large, list comprehension will be much faster than for loops.\n",
    "# In my experiments, the speed of list comprehension is about twice larger than that of for loops."
   ]
  },
  {
   "cell_type": "markdown",
   "metadata": {},
   "source": [
    "# Prime numbers"
   ]
  },
  {
   "cell_type": "code",
   "execution_count": 138,
   "metadata": {},
   "outputs": [],
   "source": [
    "# Write a function to return all prime numbers in a list. Do this with one line of list comprehension.\n",
    "def find_prime(test_list):\n",
    "    return [test for test in test_list if test==2 or (test>1 and all([(test%(i+1)!=0) for i in range(test-1) if i!=0]))]"
   ]
  },
  {
   "cell_type": "code",
   "execution_count": 142,
   "metadata": {},
   "outputs": [
    {
     "data": {
      "text/plain": [
       "[2, 3, 5, 7, 11, 13, 17, 19, 23, 29, 31, 37, 41, 43, 47]"
      ]
     },
     "execution_count": 142,
     "metadata": {},
     "output_type": "execute_result"
    }
   ],
   "source": [
    "find_prime([i for i in range(50)])"
   ]
  },
  {
   "cell_type": "markdown",
   "metadata": {},
   "source": [
    "# Extend the Vector class"
   ]
  },
  {
   "cell_type": "code",
   "execution_count": 224,
   "metadata": {},
   "outputs": [],
   "source": [
    "# Using dunder method (unlike defining functions in the class)\n",
    "# Vector class: construction, get item, slicing, length, power,\n",
    "class Vector:\n",
    "    def __init__(self, *data):\n",
    "        # Constructor\n",
    "        self.element=data\n",
    "    def __repr__(self):\n",
    "        # Representation\n",
    "        return f'Vector{self.element}'\n",
    "    def __str__(self):\n",
    "        # Convert String (when you print Vector)\n",
    "        return f'Vector{self.element}'\n",
    "    def __abs__(self):\n",
    "        # Calculate Length\n",
    "        len=0\n",
    "        for i in range(len(self.element)):\n",
    "            len=len+self.element[i]**2\n",
    "        return len**0.5\n",
    "    def __add__(self, other):\n",
    "        # Add (same size)\n",
    "        if len(self.element)==len(other.element):\n",
    "            return Vector(*(self.element[i]+other.element[i] for i in range(len(self.element))))\n",
    "        else:\n",
    "            print(\"The two vectors don't have the same size!\")\n",
    "    def __mul__(self, scalar):\n",
    "        # Multiplication by scalar\n",
    "        return Vector(*(self.element[i]*scalar for i in range(len(self.element))))\n",
    "    def __getitem__(self, key):\n",
    "        # Get specific item\n",
    "        return self.element[key]\n",
    "    def __len__(self):\n",
    "        # length\n",
    "        return len(self.element)\n",
    "    def __pow__(self, power):\n",
    "        # power\n",
    "        return Vector(*(self.element[i]**power for i in range(len(self.element))))"
   ]
  },
  {
   "cell_type": "code",
   "execution_count": 225,
   "metadata": {},
   "outputs": [
    {
     "name": "stdout",
     "output_type": "stream",
     "text": [
      "Convert to string: Vector(1, 2, 3)\n",
      "Add result: Vector(5, 7, 9)\n",
      "Multiply scalar: Vector(2.0, 2.5, 3.0)\n"
     ]
    }
   ],
   "source": [
    "V1=Vector(1,2,3)\n",
    "V2=Vector(4,5,6)\n",
    "#Representation\n",
    "V1\n",
    "#Convert to string\n",
    "print(\"Convert to string:\", V1)\n",
    "#Add\n",
    "print(\"Add result:\", V1+V2)\n",
    "#Multiplication by scalar\n",
    "print(\"Multiply scalar:\", V2*0.5)"
   ]
  },
  {
   "cell_type": "code",
   "execution_count": 226,
   "metadata": {},
   "outputs": [
    {
     "name": "stdout",
     "output_type": "stream",
     "text": [
      "3\n",
      "(3,)\n",
      "5\n",
      "Vector(1, 4, 9, 16, 25)\n"
     ]
    }
   ],
   "source": [
    "# Test sample:\n",
    "# construction\n",
    "v=Vector(1,2,3,4,5)\n",
    "\n",
    "# get item\n",
    "print(v[2])\n",
    "\n",
    "# slicing\n",
    "print(v[2:3])\n",
    "\n",
    "# length\n",
    "print(len(v))\n",
    "\n",
    "# power\n",
    "print(v**2)"
   ]
  },
  {
   "cell_type": "markdown",
   "metadata": {},
   "source": [
    "# Case-insensitive dictionary"
   ]
  },
  {
   "cell_type": "code",
   "execution_count": 9,
   "metadata": {},
   "outputs": [],
   "source": [
    "# Write a CaseInsensitiveDict class that is insensitive to the case of keys\n",
    "class CaseInsensitiveDict(dict):\n",
    "    # Get item and Set item\n",
    "    def __getitem__(self, key):\n",
    "        # Given the key value, find the value of the element\n",
    "        for i in list(self.keys()):\n",
    "            if i.upper()==key.upper():\n",
    "                return self.get(i)\n",
    "    def __setitem__(self, key, value):\n",
    "        # Given key and value, insert element\n",
    "        for i in list(self.keys()):\n",
    "            if i.upper()==key.upper():\n",
    "                # need to update the value\n",
    "                self.update({i: value})\n",
    "            else:\n",
    "                self.update({key: value})"
   ]
  },
  {
   "cell_type": "code",
   "execution_count": 15,
   "metadata": {},
   "outputs": [
    {
     "name": "stdout",
     "output_type": "stream",
     "text": [
      "4\n",
      "2345\n"
     ]
    }
   ],
   "source": [
    "o_dict={'a':4, 'b':5}\n",
    "#print(o_dict['a'])\n",
    "#print(list(o_dict.keys()))\n",
    "dictionary=CaseInsensitiveDict(o_dict)\n",
    "print(dictionary['A'])\n",
    "dictionary['abcDEF']=2345\n",
    "print(dictionary['ABCdef'])"
   ]
  },
  {
   "cell_type": "code",
   "execution_count": null,
   "metadata": {},
   "outputs": [],
   "source": []
  }
 ],
 "metadata": {
  "kernelspec": {
   "display_name": "Python 3",
   "language": "python",
   "name": "python3"
  },
  "language_info": {
   "codemirror_mode": {
    "name": "ipython",
    "version": 3
   },
   "file_extension": ".py",
   "mimetype": "text/x-python",
   "name": "python",
   "nbconvert_exporter": "python",
   "pygments_lexer": "ipython3",
   "version": "3.7.4"
  }
 },
 "nbformat": 4,
 "nbformat_minor": 2
}
