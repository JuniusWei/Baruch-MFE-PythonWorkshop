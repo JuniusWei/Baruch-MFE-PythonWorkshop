{
 "cells": [
  {
   "cell_type": "markdown",
   "metadata": {},
   "source": [
    "# Homework 2"
   ]
  },
  {
   "cell_type": "markdown",
   "metadata": {},
   "source": [
    "## Reading\n",
    "* Descriptor: https://realpython.com/python-descriptors/#how-attributes-are-accessed-with-the-lookup-chain}\n",
    "* Data model: https://docs.python.org/3/reference/datamodel.html (contents related to what we taught)\n",
    "* Python MRO: https://www.python.org/download/releases/2.3/mro/"
   ]
  },
  {
   "cell_type": "markdown",
   "metadata": {},
   "source": [
    "## Merge sorted stream\n",
    "Write a generator function that takes two sorted streams (generators), and return a generator that can produce a merged stream in sorted order.\n",
    "\n",
    "Bonus point: can you make it generic such that it can merge any number of streams?"
   ]
  },
  {
   "cell_type": "code",
   "execution_count": 158,
   "metadata": {},
   "outputs": [],
   "source": [
    "def merge_sorted_stream_2(stream_a, stream_b):\n",
    "    \"\"\"\n",
    "    This function is used for merge two sorted streams.\n",
    "    Both streams are generators already.\n",
    "    Idea: Compare the smallest elements in the two streams.\n",
    "    \"\"\"\n",
    "    # Initialization: Get the value of the smallest elements in both stream_a and stream_b\n",
    "    try:\n",
    "        element_a = next(stream_a)\n",
    "    except StopIteration:\n",
    "        element_a = None\n",
    "    try:\n",
    "        element_b = next(stream_b)\n",
    "    except StopIteration:\n",
    "        element_b = None\n",
    "    \n",
    "    # Compare the smallest elements and yield the samller one (There are several different scenarios)\n",
    "    # Scenario One: When stream_a and stream_b are not completely iterated.\n",
    "    while (element_a != None) and (element_b != None):\n",
    "        if (element_a >= element_b):\n",
    "            yield element_b\n",
    "            # Update element_b (the second smallest elemnent in stream_b)\n",
    "            try:\n",
    "                element_b = next(stream_b)\n",
    "            except StopIteration:\n",
    "                element_b = None\n",
    "        else:\n",
    "            yield element_a\n",
    "            # Update element_a\n",
    "            try:\n",
    "                element_a = next(stream_a)\n",
    "            except StopIteration:\n",
    "                element_a = None   \n",
    "    # Scenario Two: When stream_a is iterated completely.\n",
    "    if (element_a == None) and (element_b != None):\n",
    "        yield element_b\n",
    "        # Yield all the remaining elements in stream_b\n",
    "        for element in stream_b:\n",
    "            yield element\n",
    "    # Scenario Three: When stream_b is iterated completely\n",
    "    elif (element_a != None) and (element_b == None):\n",
    "        yield element_a\n",
    "        for element in stream_a:\n",
    "            yield element\n",
    "    # Scenario Four: When both of the streams are iterated completely\n",
    "    elif (element_a == None) and (element_b == None):\n",
    "        yield None\n",
    "\n",
    "        \n",
    "def merge_sorted_streams(*streams):\n",
    "    \"\"\"\n",
    "    Function that merge two or more sorted streams.\n",
    "    Idea: Based on merge_sorted_stream_2, firstly merge the first two streams, then merge this result with the third stream...\n",
    "    \"\"\"\n",
    "    if (len(streams) == 2):\n",
    "        # print(\"Only two sorted streams\")\n",
    "        for element in merge_sorted_stream_2(*streams[:2]):\n",
    "            yield element\n",
    "    else:\n",
    "        # print(f\"There are {len(streams)} sorted streams\")\n",
    "        for element in merge_sorted_streams(merge_sorted_streams(*streams[:2]), *streams[2:]):\n",
    "            yield element"
   ]
  },
  {
   "cell_type": "code",
   "execution_count": 159,
   "metadata": {},
   "outputs": [
    {
     "name": "stdout",
     "output_type": "stream",
     "text": [
      "Two Streams:\n",
      "0\n",
      "1\n",
      "2\n",
      "3\n",
      "4\n",
      "5\n",
      "6\n",
      "7\n",
      "8\n",
      "9\n",
      "More Streams:\n",
      "0\n",
      "1\n",
      "2\n",
      "3\n",
      "4\n",
      "5\n",
      "6\n",
      "6\n",
      "7\n",
      "7\n",
      "8\n",
      "8\n",
      "9\n",
      "9\n",
      "10\n",
      "11\n",
      "12\n",
      "13\n"
     ]
    }
   ],
   "source": [
    "# Test:\n",
    "# Two Streams:\n",
    "print(\"Two Streams:\")\n",
    "stream_1 = iter(range(0, 10, 2))\n",
    "stream_2 = iter(range(1, 10, 2))\n",
    "for x in merge_sorted_stream_2(stream_1, stream_2):\n",
    "    print(x)\n",
    "\n",
    "# More streams:\n",
    "print(\"More Streams:\")\n",
    "stream_3 = iter(range(0, 10, 2))\n",
    "stream_4 = iter(range(1, 10, 2))\n",
    "stream_5 = iter(range(6, 14, 1))\n",
    "result = merge_sorted_streams(stream_3, stream_4, stream_5)\n",
    "for x in result:\n",
    "    print(x)"
   ]
  },
  {
   "cell_type": "markdown",
   "metadata": {},
   "source": [
    "## Tree traversal\n",
    "\n",
    "Unlike linear data structures (Array, Linked List, Queues, Stacks, etc) which have only one logical way to traverse them, trees can be traversed in different ways. Following are the generally used ways for traversing trees.\n",
    "\n",
    "```\n",
    "      1\n",
    "    /  \\ \n",
    "   2    3\n",
    "  / \\\n",
    " 4   5\n",
    "```\n",
    "\n",
    "Depth First Traversals: \n",
    "  * (a) Inorder (Left, Root, Right) : 4 2 5 1 3\n",
    "  * (b) Preorder (Root, Left, Right) : 1 2 4 5 3\n",
    "  * (c) Postorder (Left, Right, Root) : 4 5 2 3 1\n",
    "\n",
    "Define a Tree class with a method that can walk through the tree in different orders. Hint: use generator will make your life a lot easier."
   ]
  },
  {
   "cell_type": "code",
   "execution_count": 160,
   "metadata": {},
   "outputs": [],
   "source": [
    "class TreeNode:\n",
    "    # Initialization: value, right, left\n",
    "    def __init__(self, value = 0, left = None, right = None):\n",
    "        self.value = value\n",
    "        self.left = left\n",
    "        self.right = right\n",
    "    \n",
    "    # In-oder (Left, Root, Right)\n",
    "    def in_order(self):\n",
    "        if self.left:\n",
    "            for nodes in self.left.in_order():\n",
    "                yield nodes\n",
    "        yield str(self.value)\n",
    "        if self.right:\n",
    "            for nodes in self.right.in_order():\n",
    "                yield nodes\n",
    "            \n",
    "    # Pre-order (Root, Left, Right)\n",
    "    def pre_order(self):\n",
    "        yield str(self.value)\n",
    "        if self.left:\n",
    "            for nodes in self.left.pre_order():\n",
    "                yield nodes\n",
    "        if self.right:\n",
    "            for nodes in self.right.pre_order():\n",
    "                yield nodes\n",
    "\n",
    "    # Post-order (Left, Right, Root)\n",
    "    def post_order(self):\n",
    "        if self.left:\n",
    "            for nodes in self.left.post_order():\n",
    "                yield nodes\n",
    "        if self.right:\n",
    "            for nodes in self.right.post_order():\n",
    "                yield nodes\n",
    "        yield str(self.value)"
   ]
  },
  {
   "cell_type": "code",
   "execution_count": 161,
   "metadata": {},
   "outputs": [
    {
     "name": "stdout",
     "output_type": "stream",
     "text": [
      "4 -> 2 -> 5 -> 1 -> 3\n",
      "1 -> 2 -> 4 -> 5 -> 3\n",
      "4 -> 5 -> 2 -> 3 -> 1\n"
     ]
    }
   ],
   "source": [
    "# Test\n",
    "# Construct the Tree\n",
    "root = TreeNode(1)\n",
    "root.left = TreeNode(2)\n",
    "root.right = TreeNode(3)\n",
    "root.left.left = TreeNode(4)\n",
    "root.left.right = TreeNode(5)\n",
    "# Traverse the Tree\n",
    "# In-order:\n",
    "print(' -> '.join(item for item in root.in_order()))\n",
    "# Pre-order:\n",
    "print(' -> '.join(item for item in root.pre_order()))\n",
    "# Post-order:\n",
    "print(' -> '.join(item for item in root.post_order()))"
   ]
  },
  {
   "cell_type": "markdown",
   "metadata": {},
   "source": [
    "## Implement a timer\n",
    "Implement a timer that can print the execution time of your code. Try to implement it both as a decorator and as a context manager to compare the implementations. Can you implement it using one single class? \n"
   ]
  },
  {
   "cell_type": "code",
   "execution_count": 162,
   "metadata": {},
   "outputs": [
    {
     "name": "stdout",
     "output_type": "stream",
     "text": [
      "Total execution time: 10.000319242477417 seconds\n",
      "Total execution time: 10.000093698501587 seconds\n"
     ]
    }
   ],
   "source": [
    "import time\n",
    "\n",
    "class timer:\n",
    "    \"\"\"\n",
    "    Calculate the execution time of my code\n",
    "    \"\"\"  \n",
    "    # __call__ method used for class decorator\n",
    "    def __call__(self, func):\n",
    "        def inner(*args, **kwags):\n",
    "            start_time = time.time()\n",
    "            result = func(*args, **kwags)\n",
    "            print(f\"Total execution time: {time.time() - start_time} seconds\")\n",
    "            return result\n",
    "        return inner\n",
    "    \n",
    "    def __enter__(self):\n",
    "        self.start_time = time.time()\n",
    "        \n",
    "    def __exit__(self, exc_type, exc_value, traceback):\n",
    "        print(f\"Total execution time: {time.time() - self.start_time} seconds\")\n",
    "        return True\n",
    "\n",
    "    \n",
    "# Test\n",
    "@timer()\n",
    "def sleep(secs):\n",
    "    time.sleep(secs)\n",
    "sleep(10)\n",
    "\n",
    "with timer() as timer:\n",
    "    time.sleep(10)"
   ]
  },
  {
   "cell_type": "code",
   "execution_count": null,
   "metadata": {},
   "outputs": [],
   "source": []
  }
 ],
 "metadata": {
  "kernelspec": {
   "display_name": "Python 3",
   "language": "python",
   "name": "python3"
  },
  "language_info": {
   "codemirror_mode": {
    "name": "ipython",
    "version": 3
   },
   "file_extension": ".py",
   "mimetype": "text/x-python",
   "name": "python",
   "nbconvert_exporter": "python",
   "pygments_lexer": "ipython3",
   "version": "3.7.4"
  }
 },
 "nbformat": 4,
 "nbformat_minor": 2
}
